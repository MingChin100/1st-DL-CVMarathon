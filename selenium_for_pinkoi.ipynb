{
  "nbformat": 4,
  "nbformat_minor": 0,
  "metadata": {
    "colab": {
      "name": "selenium_for_pinkoi.ipynb",
      "provenance": [],
      "authorship_tag": "ABX9TyOwBYZHaOJMm0sTB6BGMYcT",
      "include_colab_link": true
    },
    "kernelspec": {
      "name": "python3",
      "display_name": "Python 3"
    }
  },
  "cells": [
    {
      "cell_type": "markdown",
      "metadata": {
        "id": "view-in-github",
        "colab_type": "text"
      },
      "source": [
        "<a href=\"https://colab.research.google.com/github/MingChin100/1st-DL-CVMarathon/blob/master/selenium_for_pinkoi.ipynb\" target=\"_parent\"><img src=\"https://colab.research.google.com/assets/colab-badge.svg\" alt=\"Open In Colab\"/></a>"
      ]
    },
    {
      "cell_type": "code",
      "metadata": {
        "id": "1Xn0mg5fHKqP",
        "colab_type": "code",
        "colab": {}
      },
      "source": [
        "#單網站多網頁，透過for迴圈將不同連結頁面內的商品名稱與連結都爬下來\n",
        "from selenium import webdriver\n",
        "import psycopg2\n",
        "from selenium.common.exceptions import NoSuchElementException\n",
        "from bs4 import BeautifulSoup\n",
        "import requests\n",
        "import time\n",
        "username=input('username:')\n",
        "password=input('password:')\n",
        "conn = psycopg2.connect(database=\"gift_expert_testenv\", user=username, password=password,\n",
        "                                            host=\"172.104.89.11\", port=\"5432\")\n",
        "print('Connection successful!')\n",
        "cur = conn.cursor()\n",
        "#pinkoi的網域名稱\n",
        "domain=\"https://www.pinkoi.com/\"\n",
        "total = []\n",
        "# pinkoi的商品分類有15項(category=0,1,2,3,4,5,6,8,9,10,11,12,13,14,15)，透過for迴圈更新url\n",
        "for cat_num in range(16)[0:1]:\n",
        "    if cat_num == 7: #商品分類7會連至商品分類5，所以跳過7。\n",
        "        continue\n",
        "    link = domain+\"browse?category=\"+str(cat_num)\n",
        "    print(\"=====轉換主題=====\")\n",
        "    # 換主題，頁碼從頭開始計算\n",
        "    page = 349\n",
        "    # 換主題，商品數量從頭開始計算\n",
        "    cat_total = 0\n",
        "    while True:\n",
        "        page+=1\n",
        "        pagelink=f'{link}&page={page}'\n",
        "\n",
        "        # 打開瀏覽器\n",
        "        driver = webdriver.Chrome(\"chromedriver\")  # 括號裡面打chromedriver的路徑\n",
        "        driver.get(pagelink)\n",
        "        time.sleep(1)\n",
        "        # 關掉廣告\n",
        "        try:\n",
        "            ad_block = driver.find_element_by_class_name('m-modal-close').click()\n",
        "            print(\"有廣告\")\n",
        "        except:\n",
        "            print(\"沒有廣告\")\n",
        "        # 抓取商品群的頁面內容\n",
        "        get_source = driver.page_source\n",
        "        soup = BeautifulSoup(get_source, \"html.parser\")  # type(soup) <class 'bs4.BeautifulSoup'>\n",
        "        # 測試該頁有沒有商品\n",
        "        if soup.find_all(class_='product-link')!=[]:\n",
        "            # 尋找目標：想要的商品項目存放在class_='product-link'下\n",
        "            nodes = soup.find_all(class_='product-link')\n",
        "            # for迴圈列出該頁每一個商品，並用enumerate編號=i\n",
        "            # url商品超連結\n",
        "            # title商品名稱\n",
        "            for i, ele in enumerate(nodes):\n",
        "                url = domain + ele.find_all('a')[0].get('href')\n",
        "                title = ele.find_all('a')[1].get('title')\n",
        "                print(\"loading\",i, title, url)\n",
        "                if i == (len(nodes) - 1):  # 用來計算該分類的總商品數。本頁最末端list編號是(list長度-1)\n",
        "                    cat_total += len(nodes)\n",
        "                r=requests.get(url,headers={\"user-agent\": \"Mozilla/5.0 (Windows NT 10.0; Win64; x64) AppleWebKit/537.36 (KHTML, like Gecko) Chrome/85.0.4183.102 Safari/537.36\"})\n",
        "                print('='*30)\n",
        "                #寫入DB:\n",
        "                SQL = \"INSERT INTO pages(url, domain, title, content, local_file) VALUES(%s, %s, %s, %s, %s);\"\n",
        "                data = (url, \"www.pinkoi.com\", f'pinkoi第{cat_num}分類之第{page}頁-NO.{i}-{title}', r.text, \"wendy-classroom3-2\")\n",
        "                cur.execute(SQL, data)\n",
        "                conn.commit()\n",
        "                # with open(\"html.html\", 'w', encoding=\"utf-8\") as f:\n",
        "                #     f.write(r.text)\n",
        "            print(f\"===loading 成功讀取第{cat_num}分類之第{page}頁的商品===\")\n",
        "            print(f':: {time.strftime(\"%Y-%m-%d %H:%M:%S\", time.localtime())}')\n",
        "            driver.close()\n",
        "        else:\n",
        "            print(\"沒有商品可以讀取\")\n",
        "            driver.close()\n",
        "            break\n",
        "    total.append(cat_total)  # 紀錄該分類的商品數\n",
        "conn.close()\n",
        "print(f'total={total}')\n",
        "sum = 0\n",
        "for t in total:\n",
        "    sum+=t\n",
        "print(f'Pinkoi 總共有{sum}項商品')"
      ],
      "execution_count": null,
      "outputs": []
    }
  ]
}